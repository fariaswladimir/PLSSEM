{
  "nbformat": 4,
  "nbformat_minor": 0,
  "metadata": {
    "colab": {
      "provenance": [],
      "authorship_tag": "ABX9TyO1i36Tsom+x2ldJJtPKIPL",
      "include_colab_link": true
    },
    "kernelspec": {
      "name": "ir",
      "display_name": "R"
    },
    "language_info": {
      "name": "R"
    }
  },
  "cells": [
    {
      "cell_type": "markdown",
      "metadata": {
        "id": "view-in-github",
        "colab_type": "text"
      },
      "source": [
        "<a href=\"https://colab.research.google.com/github/fariaswladimir/PLSSEM/blob/main/PLSSEM_survey.ipynb\" target=\"_parent\"><img src=\"https://colab.research.google.com/assets/colab-badge.svg\" alt=\"Open In Colab\"/></a>"
      ]
    },
    {
      "cell_type": "code",
      "execution_count": null,
      "metadata": {
        "colab": {
          "base_uri": "https://localhost:8080/",
          "height": 844
        },
        "id": "4gxpaytgl1s1",
        "outputId": "2acb5b18-d988-4294-88f6-771076667c49"
      },
      "outputs": [
        {
          "output_type": "display_data",
          "data": {
            "text/html": [
              "<table class=\"dataframe\">\n",
              "<caption>A data.frame: 6 × 19</caption>\n",
              "<thead>\n",
              "\t<tr><th></th><th scope=col>Company_Type</th><th scope=col>Position</th><th scope=col>Experience_Years</th><th scope=col>Country</th><th scope=col>Team_Size</th><th scope=col>Priority_Adjust</th><th scope=col>Meet_Deadlines</th><th scope=col>Budget_Overrun</th><th scope=col>Budget_Reduced</th><th scope=col>Goals_Met</th><th scope=col>Stakeholder_Satisfaction</th><th scope=col>Team_Admit_Mistakes</th><th scope=col>Tensions_Unresolved</th><th scope=col>Conflicting_Situations</th><th scope=col>Role_Mismatch</th><th scope=col>Methodology_Efficiency</th><th scope=col>Tools_Appropriateness</th><th scope=col>Documents_Quality</th><th scope=col>Interests_Conflict</th></tr>\n",
              "\t<tr><th></th><th scope=col>&lt;chr&gt;</th><th scope=col>&lt;chr&gt;</th><th scope=col>&lt;chr&gt;</th><th scope=col>&lt;chr&gt;</th><th scope=col>&lt;chr&gt;</th><th scope=col>&lt;int&gt;</th><th scope=col>&lt;int&gt;</th><th scope=col>&lt;int&gt;</th><th scope=col>&lt;int&gt;</th><th scope=col>&lt;int&gt;</th><th scope=col>&lt;int&gt;</th><th scope=col>&lt;int&gt;</th><th scope=col>&lt;int&gt;</th><th scope=col>&lt;int&gt;</th><th scope=col>&lt;int&gt;</th><th scope=col>&lt;int&gt;</th><th scope=col>&lt;int&gt;</th><th scope=col>&lt;int&gt;</th><th scope=col>&lt;int&gt;</th></tr>\n",
              "</thead>\n",
              "<tbody>\n",
              "\t<tr><th scope=row>1</th><td>Corporate</td><td><span style=white-space:pre-wrap>Experienced Professional (Developer, Tester, Analyst, Consultant, etc.)       </span></td><td><span style=white-space:pre-wrap>2 - 5 years      </span></td><td><span style=white-space:pre-wrap>Serbia     </span></td><td>&lt;20</td><td>4</td><td>4</td><td>2</td><td>2</td><td>3</td><td>5</td><td>5</td><td>2</td><td>3</td><td>2</td><td>4</td><td>5</td><td>5</td><td>3</td></tr>\n",
              "\t<tr><th scope=row>2</th><td>Corporate</td><td><span style=white-space:pre-wrap>Entry Level and Working Students                                              </span></td><td>Less than 2 years</td><td><span style=white-space:pre-wrap>Milan      </span></td><td>&lt;10</td><td>3</td><td>4</td><td>4</td><td>1</td><td>4</td><td>4</td><td>4</td><td>2</td><td>2</td><td>2</td><td>4</td><td>4</td><td>5</td><td>1</td></tr>\n",
              "\t<tr><th scope=row>3</th><td>Corporate</td><td>Middle Level Manager (Project Manager, Product Manager, Program Manager, etc.)</td><td><span style=white-space:pre-wrap>5 -10 years      </span></td><td><span style=white-space:pre-wrap>Serbia     </span></td><td>&lt;10</td><td>4</td><td>4</td><td>2</td><td>2</td><td>3</td><td>4</td><td>4</td><td>2</td><td>3</td><td>2</td><td>4</td><td>4</td><td>4</td><td>2</td></tr>\n",
              "\t<tr><th scope=row>4</th><td>Corporate</td><td><span style=white-space:pre-wrap>Experienced Professional (Developer, Tester, Analyst, Consultant, etc.)       </span></td><td><span style=white-space:pre-wrap>2 - 5 years      </span></td><td><span style=white-space:pre-wrap>Serbia     </span></td><td>&lt;10</td><td>3</td><td>4</td><td>1</td><td>1</td><td>4</td><td>4</td><td>5</td><td>2</td><td>1</td><td>2</td><td>4</td><td>4</td><td>4</td><td>1</td></tr>\n",
              "\t<tr><th scope=row>5</th><td>Start-up </td><td><span style=white-space:pre-wrap>Executive Manager (CFOs, CEOs, Co-Founders)                                   </span></td><td><span style=white-space:pre-wrap>5 -10 years      </span></td><td><span style=white-space:pre-wrap>Serbia     </span></td><td>&lt;10</td><td>4</td><td>2</td><td>3</td><td>2</td><td>5</td><td>5</td><td>4</td><td>2</td><td>3</td><td>3</td><td>4</td><td>2</td><td>1</td><td>2</td></tr>\n",
              "\t<tr><th scope=row>6</th><td>Corporate</td><td><span style=white-space:pre-wrap>Entry Level and Working Students                                              </span></td><td><span style=white-space:pre-wrap>2 - 5 years      </span></td><td>Switzerland</td><td>&lt;20</td><td>4</td><td>3</td><td>3</td><td>2</td><td>3</td><td>4</td><td>5</td><td>3</td><td>4</td><td>2</td><td>2</td><td>4</td><td>3</td><td>2</td></tr>\n",
              "</tbody>\n",
              "</table>\n"
            ],
            "text/markdown": "\nA data.frame: 6 × 19\n\n| <!--/--> | Company_Type &lt;chr&gt; | Position &lt;chr&gt; | Experience_Years &lt;chr&gt; | Country &lt;chr&gt; | Team_Size &lt;chr&gt; | Priority_Adjust &lt;int&gt; | Meet_Deadlines &lt;int&gt; | Budget_Overrun &lt;int&gt; | Budget_Reduced &lt;int&gt; | Goals_Met &lt;int&gt; | Stakeholder_Satisfaction &lt;int&gt; | Team_Admit_Mistakes &lt;int&gt; | Tensions_Unresolved &lt;int&gt; | Conflicting_Situations &lt;int&gt; | Role_Mismatch &lt;int&gt; | Methodology_Efficiency &lt;int&gt; | Tools_Appropriateness &lt;int&gt; | Documents_Quality &lt;int&gt; | Interests_Conflict &lt;int&gt; |\n|---|---|---|---|---|---|---|---|---|---|---|---|---|---|---|---|---|---|---|---|\n| 1 | Corporate | Experienced Professional (Developer, Tester, Analyst, Consultant, etc.)        | 2 - 5 years       | Serbia      | &lt;20 | 4 | 4 | 2 | 2 | 3 | 5 | 5 | 2 | 3 | 2 | 4 | 5 | 5 | 3 |\n| 2 | Corporate | Entry Level and Working Students                                               | Less than 2 years | Milan       | &lt;10 | 3 | 4 | 4 | 1 | 4 | 4 | 4 | 2 | 2 | 2 | 4 | 4 | 5 | 1 |\n| 3 | Corporate | Middle Level Manager (Project Manager, Product Manager, Program Manager, etc.) | 5 -10 years       | Serbia      | &lt;10 | 4 | 4 | 2 | 2 | 3 | 4 | 4 | 2 | 3 | 2 | 4 | 4 | 4 | 2 |\n| 4 | Corporate | Experienced Professional (Developer, Tester, Analyst, Consultant, etc.)        | 2 - 5 years       | Serbia      | &lt;10 | 3 | 4 | 1 | 1 | 4 | 4 | 5 | 2 | 1 | 2 | 4 | 4 | 4 | 1 |\n| 5 | Start-up  | Executive Manager (CFOs, CEOs, Co-Founders)                                    | 5 -10 years       | Serbia      | &lt;10 | 4 | 2 | 3 | 2 | 5 | 5 | 4 | 2 | 3 | 3 | 4 | 2 | 1 | 2 |\n| 6 | Corporate | Entry Level and Working Students                                               | 2 - 5 years       | Switzerland | &lt;20 | 4 | 3 | 3 | 2 | 3 | 4 | 5 | 3 | 4 | 2 | 2 | 4 | 3 | 2 |\n\n",
            "text/latex": "A data.frame: 6 × 19\n\\begin{tabular}{r|lllllllllllllllllll}\n  & Company\\_Type & Position & Experience\\_Years & Country & Team\\_Size & Priority\\_Adjust & Meet\\_Deadlines & Budget\\_Overrun & Budget\\_Reduced & Goals\\_Met & Stakeholder\\_Satisfaction & Team\\_Admit\\_Mistakes & Tensions\\_Unresolved & Conflicting\\_Situations & Role\\_Mismatch & Methodology\\_Efficiency & Tools\\_Appropriateness & Documents\\_Quality & Interests\\_Conflict\\\\\n  & <chr> & <chr> & <chr> & <chr> & <chr> & <int> & <int> & <int> & <int> & <int> & <int> & <int> & <int> & <int> & <int> & <int> & <int> & <int> & <int>\\\\\n\\hline\n\t1 & Corporate & Experienced Professional (Developer, Tester, Analyst, Consultant, etc.)        & 2 - 5 years       & Serbia      & <20 & 4 & 4 & 2 & 2 & 3 & 5 & 5 & 2 & 3 & 2 & 4 & 5 & 5 & 3\\\\\n\t2 & Corporate & Entry Level and Working Students                                               & Less than 2 years & Milan       & <10 & 3 & 4 & 4 & 1 & 4 & 4 & 4 & 2 & 2 & 2 & 4 & 4 & 5 & 1\\\\\n\t3 & Corporate & Middle Level Manager (Project Manager, Product Manager, Program Manager, etc.) & 5 -10 years       & Serbia      & <10 & 4 & 4 & 2 & 2 & 3 & 4 & 4 & 2 & 3 & 2 & 4 & 4 & 4 & 2\\\\\n\t4 & Corporate & Experienced Professional (Developer, Tester, Analyst, Consultant, etc.)        & 2 - 5 years       & Serbia      & <10 & 3 & 4 & 1 & 1 & 4 & 4 & 5 & 2 & 1 & 2 & 4 & 4 & 4 & 1\\\\\n\t5 & Start-up  & Executive Manager (CFOs, CEOs, Co-Founders)                                    & 5 -10 years       & Serbia      & <10 & 4 & 2 & 3 & 2 & 5 & 5 & 4 & 2 & 3 & 3 & 4 & 2 & 1 & 2\\\\\n\t6 & Corporate & Entry Level and Working Students                                               & 2 - 5 years       & Switzerland & <20 & 4 & 3 & 3 & 2 & 3 & 4 & 5 & 3 & 4 & 2 & 2 & 4 & 3 & 2\\\\\n\\end{tabular}\n",
            "text/plain": [
              "  Company_Type\n",
              "1 Corporate   \n",
              "2 Corporate   \n",
              "3 Corporate   \n",
              "4 Corporate   \n",
              "5 Start-up    \n",
              "6 Corporate   \n",
              "  Position                                                                      \n",
              "1 Experienced Professional (Developer, Tester, Analyst, Consultant, etc.)       \n",
              "2 Entry Level and Working Students                                              \n",
              "3 Middle Level Manager (Project Manager, Product Manager, Program Manager, etc.)\n",
              "4 Experienced Professional (Developer, Tester, Analyst, Consultant, etc.)       \n",
              "5 Executive Manager (CFOs, CEOs, Co-Founders)                                   \n",
              "6 Entry Level and Working Students                                              \n",
              "  Experience_Years  Country     Team_Size Priority_Adjust Meet_Deadlines\n",
              "1 2 - 5 years       Serbia      <20       4               4             \n",
              "2 Less than 2 years Milan       <10       3               4             \n",
              "3 5 -10 years       Serbia      <10       4               4             \n",
              "4 2 - 5 years       Serbia      <10       3               4             \n",
              "5 5 -10 years       Serbia      <10       4               2             \n",
              "6 2 - 5 years       Switzerland <20       4               3             \n",
              "  Budget_Overrun Budget_Reduced Goals_Met Stakeholder_Satisfaction\n",
              "1 2              2              3         5                       \n",
              "2 4              1              4         4                       \n",
              "3 2              2              3         4                       \n",
              "4 1              1              4         4                       \n",
              "5 3              2              5         5                       \n",
              "6 3              2              3         4                       \n",
              "  Team_Admit_Mistakes Tensions_Unresolved Conflicting_Situations Role_Mismatch\n",
              "1 5                   2                   3                      2            \n",
              "2 4                   2                   2                      2            \n",
              "3 4                   2                   3                      2            \n",
              "4 5                   2                   1                      2            \n",
              "5 4                   2                   3                      3            \n",
              "6 5                   3                   4                      2            \n",
              "  Methodology_Efficiency Tools_Appropriateness Documents_Quality\n",
              "1 4                      5                     5                \n",
              "2 4                      4                     5                \n",
              "3 4                      4                     4                \n",
              "4 4                      4                     4                \n",
              "5 4                      2                     1                \n",
              "6 2                      4                     3                \n",
              "  Interests_Conflict\n",
              "1 3                 \n",
              "2 1                 \n",
              "3 2                 \n",
              "4 1                 \n",
              "5 2                 \n",
              "6 2                 "
            ]
          },
          "metadata": {}
        }
      ],
      "source": [
        "# prompt: quero usar a base /content/Survey Data.xlsx\n",
        "\n",
        "library(readxl)\n",
        "df <- read.csv('/content/df_numerico.csv')\n",
        "head(df)\n"
      ]
    },
    {
      "cell_type": "code",
      "source": [
        "# prompt: drop as colunas que não são int\n",
        "\n",
        "df_numerico <- df[, sapply(df, is.numeric)]\n",
        "head(df_numerico)\n"
      ],
      "metadata": {
        "colab": {
          "base_uri": "https://localhost:8080/",
          "height": 306
        },
        "id": "_kgvJiF902xq",
        "outputId": "e039acd8-bc16-4f33-afcc-f8da42b542ad"
      },
      "execution_count": null,
      "outputs": [
        {
          "output_type": "display_data",
          "data": {
            "text/html": [
              "<table class=\"dataframe\">\n",
              "<caption>A data.frame: 6 × 14</caption>\n",
              "<thead>\n",
              "\t<tr><th></th><th scope=col>Priority_Adjust</th><th scope=col>Meet_Deadlines</th><th scope=col>Budget_Overrun</th><th scope=col>Budget_Reduced</th><th scope=col>Goals_Met</th><th scope=col>Stakeholder_Satisfaction</th><th scope=col>Team_Admit_Mistakes</th><th scope=col>Tensions_Unresolved</th><th scope=col>Conflicting_Situations</th><th scope=col>Role_Mismatch</th><th scope=col>Methodology_Efficiency</th><th scope=col>Tools_Appropriateness</th><th scope=col>Documents_Quality</th><th scope=col>Interests_Conflict</th></tr>\n",
              "\t<tr><th></th><th scope=col>&lt;int&gt;</th><th scope=col>&lt;int&gt;</th><th scope=col>&lt;int&gt;</th><th scope=col>&lt;int&gt;</th><th scope=col>&lt;int&gt;</th><th scope=col>&lt;int&gt;</th><th scope=col>&lt;int&gt;</th><th scope=col>&lt;int&gt;</th><th scope=col>&lt;int&gt;</th><th scope=col>&lt;int&gt;</th><th scope=col>&lt;int&gt;</th><th scope=col>&lt;int&gt;</th><th scope=col>&lt;int&gt;</th><th scope=col>&lt;int&gt;</th></tr>\n",
              "</thead>\n",
              "<tbody>\n",
              "\t<tr><th scope=row>1</th><td>4</td><td>4</td><td>2</td><td>2</td><td>3</td><td>5</td><td>5</td><td>2</td><td>3</td><td>2</td><td>4</td><td>5</td><td>5</td><td>3</td></tr>\n",
              "\t<tr><th scope=row>2</th><td>3</td><td>4</td><td>4</td><td>1</td><td>4</td><td>4</td><td>4</td><td>2</td><td>2</td><td>2</td><td>4</td><td>4</td><td>5</td><td>1</td></tr>\n",
              "\t<tr><th scope=row>3</th><td>4</td><td>4</td><td>2</td><td>2</td><td>3</td><td>4</td><td>4</td><td>2</td><td>3</td><td>2</td><td>4</td><td>4</td><td>4</td><td>2</td></tr>\n",
              "\t<tr><th scope=row>4</th><td>3</td><td>4</td><td>1</td><td>1</td><td>4</td><td>4</td><td>5</td><td>2</td><td>1</td><td>2</td><td>4</td><td>4</td><td>4</td><td>1</td></tr>\n",
              "\t<tr><th scope=row>5</th><td>4</td><td>2</td><td>3</td><td>2</td><td>5</td><td>5</td><td>4</td><td>2</td><td>3</td><td>3</td><td>4</td><td>2</td><td>1</td><td>2</td></tr>\n",
              "\t<tr><th scope=row>6</th><td>4</td><td>3</td><td>3</td><td>2</td><td>3</td><td>4</td><td>5</td><td>3</td><td>4</td><td>2</td><td>2</td><td>4</td><td>3</td><td>2</td></tr>\n",
              "</tbody>\n",
              "</table>\n"
            ],
            "text/markdown": "\nA data.frame: 6 × 14\n\n| <!--/--> | Priority_Adjust &lt;int&gt; | Meet_Deadlines &lt;int&gt; | Budget_Overrun &lt;int&gt; | Budget_Reduced &lt;int&gt; | Goals_Met &lt;int&gt; | Stakeholder_Satisfaction &lt;int&gt; | Team_Admit_Mistakes &lt;int&gt; | Tensions_Unresolved &lt;int&gt; | Conflicting_Situations &lt;int&gt; | Role_Mismatch &lt;int&gt; | Methodology_Efficiency &lt;int&gt; | Tools_Appropriateness &lt;int&gt; | Documents_Quality &lt;int&gt; | Interests_Conflict &lt;int&gt; |\n|---|---|---|---|---|---|---|---|---|---|---|---|---|---|---|\n| 1 | 4 | 4 | 2 | 2 | 3 | 5 | 5 | 2 | 3 | 2 | 4 | 5 | 5 | 3 |\n| 2 | 3 | 4 | 4 | 1 | 4 | 4 | 4 | 2 | 2 | 2 | 4 | 4 | 5 | 1 |\n| 3 | 4 | 4 | 2 | 2 | 3 | 4 | 4 | 2 | 3 | 2 | 4 | 4 | 4 | 2 |\n| 4 | 3 | 4 | 1 | 1 | 4 | 4 | 5 | 2 | 1 | 2 | 4 | 4 | 4 | 1 |\n| 5 | 4 | 2 | 3 | 2 | 5 | 5 | 4 | 2 | 3 | 3 | 4 | 2 | 1 | 2 |\n| 6 | 4 | 3 | 3 | 2 | 3 | 4 | 5 | 3 | 4 | 2 | 2 | 4 | 3 | 2 |\n\n",
            "text/latex": "A data.frame: 6 × 14\n\\begin{tabular}{r|llllllllllllll}\n  & Priority\\_Adjust & Meet\\_Deadlines & Budget\\_Overrun & Budget\\_Reduced & Goals\\_Met & Stakeholder\\_Satisfaction & Team\\_Admit\\_Mistakes & Tensions\\_Unresolved & Conflicting\\_Situations & Role\\_Mismatch & Methodology\\_Efficiency & Tools\\_Appropriateness & Documents\\_Quality & Interests\\_Conflict\\\\\n  & <int> & <int> & <int> & <int> & <int> & <int> & <int> & <int> & <int> & <int> & <int> & <int> & <int> & <int>\\\\\n\\hline\n\t1 & 4 & 4 & 2 & 2 & 3 & 5 & 5 & 2 & 3 & 2 & 4 & 5 & 5 & 3\\\\\n\t2 & 3 & 4 & 4 & 1 & 4 & 4 & 4 & 2 & 2 & 2 & 4 & 4 & 5 & 1\\\\\n\t3 & 4 & 4 & 2 & 2 & 3 & 4 & 4 & 2 & 3 & 2 & 4 & 4 & 4 & 2\\\\\n\t4 & 3 & 4 & 1 & 1 & 4 & 4 & 5 & 2 & 1 & 2 & 4 & 4 & 4 & 1\\\\\n\t5 & 4 & 2 & 3 & 2 & 5 & 5 & 4 & 2 & 3 & 3 & 4 & 2 & 1 & 2\\\\\n\t6 & 4 & 3 & 3 & 2 & 3 & 4 & 5 & 3 & 4 & 2 & 2 & 4 & 3 & 2\\\\\n\\end{tabular}\n",
            "text/plain": [
              "  Priority_Adjust Meet_Deadlines Budget_Overrun Budget_Reduced Goals_Met\n",
              "1 4               4              2              2              3        \n",
              "2 3               4              4              1              4        \n",
              "3 4               4              2              2              3        \n",
              "4 3               4              1              1              4        \n",
              "5 4               2              3              2              5        \n",
              "6 4               3              3              2              3        \n",
              "  Stakeholder_Satisfaction Team_Admit_Mistakes Tensions_Unresolved\n",
              "1 5                        5                   2                  \n",
              "2 4                        4                   2                  \n",
              "3 4                        4                   2                  \n",
              "4 4                        5                   2                  \n",
              "5 5                        4                   2                  \n",
              "6 4                        5                   3                  \n",
              "  Conflicting_Situations Role_Mismatch Methodology_Efficiency\n",
              "1 3                      2             4                     \n",
              "2 2                      2             4                     \n",
              "3 3                      2             4                     \n",
              "4 1                      2             4                     \n",
              "5 3                      3             4                     \n",
              "6 4                      2             2                     \n",
              "  Tools_Appropriateness Documents_Quality Interests_Conflict\n",
              "1 5                     5                 3                 \n",
              "2 4                     5                 1                 \n",
              "3 4                     4                 2                 \n",
              "4 4                     4                 1                 \n",
              "5 2                     1                 2                 \n",
              "6 4                     3                 2                 "
            ]
          },
          "metadata": {}
        }
      ]
    },
    {
      "cell_type": "code",
      "source": [
        "install.packages(\"plspm\")\n",
        "library(plspm)"
      ],
      "metadata": {
        "colab": {
          "base_uri": "https://localhost:8080/"
        },
        "id": "H2CibwLK08yM",
        "outputId": "63dacd9c-808c-462e-dfcb-2a25175ca8e3"
      },
      "execution_count": null,
      "outputs": [
        {
          "output_type": "stream",
          "name": "stderr",
          "text": [
            "Installing package into ‘/usr/local/lib/R/site-library’\n",
            "(as ‘lib’ is unspecified)\n",
            "\n",
            "also installing the dependencies ‘tester’, ‘turner’, ‘diagram’, ‘shape’, ‘amap’\n",
            "\n",
            "\n"
          ]
        }
      ]
    },
    {
      "cell_type": "code",
      "source": [
        "# Matriz de relações entre variáveis latentes\n",
        "path_matrix <- rbind(\n",
        "  c(0, 0, 0),  # proj_suc\n",
        "  c(1, 0, 0),  # hrc\n",
        "  c(1, 0, 0)   # nhrc\n",
        ")\n",
        "colnames(path_matrix) <- rownames(path_matrix) <- c(\"proj_suc\", \"hrc\", \"nhrc\")\n"
      ],
      "metadata": {
        "id": "G9oJSWYU1ihG"
      },
      "execution_count": null,
      "outputs": []
    },
    {
      "cell_type": "code",
      "source": [
        "# Lista de blocos de medidas\n",
        "blocks <- list(\n",
        "  c(\"Priority_Adjust\", \"Meet_Deadlines\", \"Budget_Overrun\", \"Goals_Met\", \"Stakeholder_Satisfaction\"),  # Indicadores para proj_suc\n",
        "  c(\"Team_Admit_Mistakes\", \"Tensions_Unresolved\", \"Conflicting_Situations\", \"Role_Mismatch\"),  # Indicadores para hrc\n",
        "  c(\"Methodology_Efficiency\", \"Tools_Appropriateness\", \"Documents_Quality\")  # Indicadores para nhrc\n",
        ")\n"
      ],
      "metadata": {
        "id": "1fFmUPB41kfv"
      },
      "execution_count": null,
      "outputs": []
    },
    {
      "cell_type": "code",
      "source": [
        "\n",
        "# Modos de mensuração (A = reflexivo)\n",
        "modes <- c(\"A\", \"A\", \"A\")\n"
      ],
      "metadata": {
        "id": "iuyWnh7l10-i"
      },
      "execution_count": null,
      "outputs": []
    },
    {
      "cell_type": "code",
      "source": [
        "# Ajustar o modelo PLS-SEM\n",
        "resultados <- plspm(df_numerico, path_matrix, blocks, modes)\n"
      ],
      "metadata": {
        "id": "L86J9yJe1oWQ"
      },
      "execution_count": null,
      "outputs": []
    },
    {
      "cell_type": "code",
      "source": [
        "# Sumário dos resultados\n",
        "summary(resultados)\n",
        "\n",
        "# Coeficientes do caminho\n",
        "resultados$path_coefs\n",
        "\n",
        "# Loadings\n",
        "resultados$outer_model\n",
        "\n",
        "# Communality\n",
        "resultados$communality\n",
        "\n",
        "# Redundancy\n",
        "resultados$redundancy\n",
        "\n",
        "# Goodness-of-Fit\n",
        "resultados$gof\n"
      ],
      "metadata": {
        "colab": {
          "base_uri": "https://localhost:8080/",
          "height": 1000
        },
        "id": "lcFg8hwh1rqX",
        "outputId": "5226cdaa-e1c5-41f3-e93f-9009d355fb4b"
      },
      "execution_count": null,
      "outputs": [
        {
          "output_type": "display_data",
          "data": {
            "text/plain": [
              "PARTIAL LEAST SQUARES PATH MODELING (PLS-PM) \n",
              "\n",
              "---------------------------------------------------------- \n",
              "MODEL SPECIFICATION \n",
              "1   Number of Cases      107 \n",
              "2   Latent Variables     3 \n",
              "3   Manifest Variables   12 \n",
              "4   Scale of Data        Standardized Data \n",
              "5   Non-Metric PLS       FALSE \n",
              "6   Weighting Scheme     centroid \n",
              "7   Tolerance Crit       1e-06 \n",
              "8   Max Num Iters        100 \n",
              "9   Convergence Iters    6 \n",
              "10  Bootstrapping        FALSE \n",
              "11  Bootstrap samples    NULL \n",
              "\n",
              "---------------------------------------------------------- \n",
              "BLOCKS DEFINITION \n",
              "       Block         Type   Size   Mode\n",
              "1   proj_suc    Exogenous      5      A\n",
              "2        hrc   Endogenous      4      A\n",
              "3       nhrc   Endogenous      3      A\n",
              "\n",
              "---------------------------------------------------------- \n",
              "BLOCKS UNIDIMENSIONALITY \n",
              "          Mode  MVs  C.alpha  DG.rho  eig.1st  eig.2nd\n",
              "proj_suc     A    5    0.374   0.635     2.22    0.874\n",
              "hrc          A    4    0.000   0.437     2.09    0.957\n",
              "nhrc         A    3    0.562   0.774     1.61    0.798\n",
              "\n",
              "---------------------------------------------------------- \n",
              "OUTER MODEL \n",
              "                               weight  loading  communality  redundancy\n",
              "proj_suc                                                               \n",
              "  1 Priority_Adjust            0.3274    0.703       0.4942     0.00000\n",
              "  1 Meet_Deadlines             0.3309    0.738       0.5454     0.00000\n",
              "  1 Budget_Overrun            -0.2814   -0.576       0.3323     0.00000\n",
              "  1 Goals_Met                  0.1963    0.514       0.2638     0.00000\n",
              "  1 Stakeholder_Satisfaction   0.3451    0.760       0.5779     0.00000\n",
              "hrc                                                                    \n",
              "  2 Team_Admit_Mistakes       -0.4459   -0.825       0.6806     0.21652\n",
              "  2 Tensions_Unresolved        0.4545    0.881       0.7766     0.24705\n",
              "  2 Conflicting_Situations     0.3106    0.753       0.5672     0.18045\n",
              "  2 Role_Mismatch             -0.0156    0.149       0.0222     0.00708\n",
              "nhrc                                                                   \n",
              "  3 Methodology_Efficiency     0.4508    0.752       0.5649     0.09912\n",
              "  3 Tools_Appropriateness      0.6335    0.874       0.7630     0.13389\n",
              "  3 Documents_Quality          0.2179    0.495       0.2446     0.04293\n",
              "\n",
              "---------------------------------------------------------- \n",
              "CROSSLOADINGS \n",
              "                              proj_suc     hrc    nhrc\n",
              "proj_suc                                              \n",
              "  1 Priority_Adjust             0.7030  -0.398   0.312\n",
              "  1 Meet_Deadlines              0.7385  -0.377   0.340\n",
              "  1 Budget_Overrun             -0.5765   0.404  -0.206\n",
              "  1 Goals_Met                   0.5136  -0.205   0.220\n",
              "  1 Stakeholder_Satisfaction    0.7602  -0.449   0.299\n",
              "hrc                                                   \n",
              "  2 Team_Admit_Mistakes         0.5009  -0.825   0.296\n",
              "  2 Tensions_Unresolved        -0.5105   0.881  -0.303\n",
              "  2 Conflicting_Situations     -0.3489   0.753  -0.304\n",
              "  2 Role_Mismatch               0.0176   0.149  -0.286\n",
              "nhrc                                                  \n",
              "  3 Methodology_Efficiency      0.2896  -0.327   0.752\n",
              "  3 Tools_Appropriateness       0.4070  -0.293   0.874\n",
              "  3 Documents_Quality           0.1400  -0.122   0.495\n",
              "\n",
              "---------------------------------------------------------- \n",
              "INNER MODEL \n",
              "$hrc\n",
              "             Estimate   Std. Error     t value   Pr(>|t|)\n",
              "Intercept   -1.26e-16       0.0806   -1.56e-15   1.00e+00\n",
              "proj_suc    -5.64e-01       0.0806   -7.00e+00   2.52e-10\n",
              "\n",
              "$nhrc\n",
              "            Estimate   Std. Error    t value   Pr(>|t|)\n",
              "Intercept   2.72e-17       0.0886   3.07e-16    1.0e+00\n",
              "proj_suc    4.19e-01       0.0886   4.73e+00    7.1e-06\n",
              "\n",
              "---------------------------------------------------------- \n",
              "CORRELATIONS BETWEEN LVs \n",
              "          proj_suc     hrc    nhrc\n",
              "proj_suc     1.000  -0.564   0.419\n",
              "hrc         -0.564   1.000  -0.360\n",
              "nhrc         0.419  -0.360   1.000\n",
              "\n",
              "---------------------------------------------------------- \n",
              "SUMMARY INNER MODEL \n",
              "                Type     R2  Block_Communality  Mean_Redundancy    AVE\n",
              "proj_suc   Exogenous  0.000              0.443            0.000  0.443\n",
              "hrc       Endogenous  0.318              0.512            0.163  0.512\n",
              "nhrc      Endogenous  0.175              0.524            0.092  0.524\n",
              "\n",
              "---------------------------------------------------------- \n",
              "GOODNESS-OF-FIT \n",
              "[1]  0.3464\n",
              "\n",
              "---------------------------------------------------------- \n",
              "TOTAL EFFECTS \n",
              "      relationships  direct  indirect   total\n",
              "1   proj_suc -> hrc  -0.564         0  -0.564\n",
              "2  proj_suc -> nhrc   0.419         0   0.419\n",
              "3       hrc -> nhrc   0.000         0   0.000"
            ]
          },
          "metadata": {}
        },
        {
          "output_type": "display_data",
          "data": {
            "text/html": [
              "<table class=\"dataframe\">\n",
              "<caption>A matrix: 3 × 3 of type dbl</caption>\n",
              "<thead>\n",
              "\t<tr><th></th><th scope=col>proj_suc</th><th scope=col>hrc</th><th scope=col>nhrc</th></tr>\n",
              "</thead>\n",
              "<tbody>\n",
              "\t<tr><th scope=row>proj_suc</th><td> 0.0000000</td><td>0</td><td>0</td></tr>\n",
              "\t<tr><th scope=row>hrc</th><td>-0.5640127</td><td>0</td><td>0</td></tr>\n",
              "\t<tr><th scope=row>nhrc</th><td> 0.4189007</td><td>0</td><td>0</td></tr>\n",
              "</tbody>\n",
              "</table>\n"
            ],
            "text/markdown": "\nA matrix: 3 × 3 of type dbl\n\n| <!--/--> | proj_suc | hrc | nhrc |\n|---|---|---|---|\n| proj_suc |  0.0000000 | 0 | 0 |\n| hrc | -0.5640127 | 0 | 0 |\n| nhrc |  0.4189007 | 0 | 0 |\n\n",
            "text/latex": "A matrix: 3 × 3 of type dbl\n\\begin{tabular}{r|lll}\n  & proj\\_suc & hrc & nhrc\\\\\n\\hline\n\tproj\\_suc &  0.0000000 & 0 & 0\\\\\n\thrc & -0.5640127 & 0 & 0\\\\\n\tnhrc &  0.4189007 & 0 & 0\\\\\n\\end{tabular}\n",
            "text/plain": [
              "         proj_suc   hrc nhrc\n",
              "proj_suc  0.0000000 0   0   \n",
              "hrc      -0.5640127 0   0   \n",
              "nhrc      0.4189007 0   0   "
            ]
          },
          "metadata": {}
        },
        {
          "output_type": "display_data",
          "data": {
            "text/html": [
              "<table class=\"dataframe\">\n",
              "<caption>A data.frame: 12 × 6</caption>\n",
              "<thead>\n",
              "\t<tr><th></th><th scope=col>name</th><th scope=col>block</th><th scope=col>weight</th><th scope=col>loading</th><th scope=col>communality</th><th scope=col>redundancy</th></tr>\n",
              "\t<tr><th></th><th scope=col>&lt;fct&gt;</th><th scope=col>&lt;fct&gt;</th><th scope=col>&lt;dbl&gt;</th><th scope=col>&lt;dbl&gt;</th><th scope=col>&lt;dbl&gt;</th><th scope=col>&lt;dbl&gt;</th></tr>\n",
              "</thead>\n",
              "<tbody>\n",
              "\t<tr><th scope=row>1</th><td>Priority_Adjust         </td><td>proj_suc</td><td> 0.32739888</td><td> 0.7030178</td><td>0.49423401</td><td>0.000000000</td></tr>\n",
              "\t<tr><th scope=row>2</th><td>Meet_Deadlines          </td><td>proj_suc</td><td> 0.33093352</td><td> 0.7384823</td><td>0.54535605</td><td>0.000000000</td></tr>\n",
              "\t<tr><th scope=row>3</th><td>Budget_Overrun          </td><td>proj_suc</td><td>-0.28143085</td><td>-0.5764687</td><td>0.33231614</td><td>0.000000000</td></tr>\n",
              "\t<tr><th scope=row>4</th><td>Goals_Met               </td><td>proj_suc</td><td> 0.19634938</td><td> 0.5136207</td><td>0.26380623</td><td>0.000000000</td></tr>\n",
              "\t<tr><th scope=row>5</th><td>Stakeholder_Satisfaction</td><td>proj_suc</td><td> 0.34513381</td><td> 0.7601662</td><td>0.57785260</td><td>0.000000000</td></tr>\n",
              "\t<tr><th scope=row>6</th><td>Team_Admit_Mistakes     </td><td>hrc     </td><td>-0.44590293</td><td>-0.8250080</td><td>0.68063814</td><td>0.216517989</td></tr>\n",
              "\t<tr><th scope=row>7</th><td>Tensions_Unresolved     </td><td>hrc     </td><td> 0.45449657</td><td> 0.8812657</td><td>0.77662929</td><td>0.247053760</td></tr>\n",
              "\t<tr><th scope=row>8</th><td>Conflicting_Situations  </td><td>hrc     </td><td> 0.31059108</td><td> 0.7531575</td><td>0.56724620</td><td>0.180446846</td></tr>\n",
              "\t<tr><th scope=row>9</th><td>Role_Mismatch           </td><td>hrc     </td><td>-0.01562157</td><td> 0.1491352</td><td>0.02224129</td><td>0.007075184</td></tr>\n",
              "\t<tr><th scope=row>10</th><td>Methodology_Efficiency  </td><td>nhrc    </td><td> 0.45082751</td><td> 0.7515770</td><td>0.56486795</td><td>0.099121783</td></tr>\n",
              "\t<tr><th scope=row>11</th><td>Tools_Appropriateness   </td><td>nhrc    </td><td> 0.63353162</td><td> 0.8735086</td><td>0.76301719</td><td>0.133892576</td></tr>\n",
              "\t<tr><th scope=row>12</th><td>Documents_Quality       </td><td>nhrc    </td><td> 0.21790258</td><td> 0.4945932</td><td>0.24462242</td><td>0.042925804</td></tr>\n",
              "</tbody>\n",
              "</table>\n"
            ],
            "text/markdown": "\nA data.frame: 12 × 6\n\n| <!--/--> | name &lt;fct&gt; | block &lt;fct&gt; | weight &lt;dbl&gt; | loading &lt;dbl&gt; | communality &lt;dbl&gt; | redundancy &lt;dbl&gt; |\n|---|---|---|---|---|---|---|\n| 1 | Priority_Adjust          | proj_suc |  0.32739888 |  0.7030178 | 0.49423401 | 0.000000000 |\n| 2 | Meet_Deadlines           | proj_suc |  0.33093352 |  0.7384823 | 0.54535605 | 0.000000000 |\n| 3 | Budget_Overrun           | proj_suc | -0.28143085 | -0.5764687 | 0.33231614 | 0.000000000 |\n| 4 | Goals_Met                | proj_suc |  0.19634938 |  0.5136207 | 0.26380623 | 0.000000000 |\n| 5 | Stakeholder_Satisfaction | proj_suc |  0.34513381 |  0.7601662 | 0.57785260 | 0.000000000 |\n| 6 | Team_Admit_Mistakes      | hrc      | -0.44590293 | -0.8250080 | 0.68063814 | 0.216517989 |\n| 7 | Tensions_Unresolved      | hrc      |  0.45449657 |  0.8812657 | 0.77662929 | 0.247053760 |\n| 8 | Conflicting_Situations   | hrc      |  0.31059108 |  0.7531575 | 0.56724620 | 0.180446846 |\n| 9 | Role_Mismatch            | hrc      | -0.01562157 |  0.1491352 | 0.02224129 | 0.007075184 |\n| 10 | Methodology_Efficiency   | nhrc     |  0.45082751 |  0.7515770 | 0.56486795 | 0.099121783 |\n| 11 | Tools_Appropriateness    | nhrc     |  0.63353162 |  0.8735086 | 0.76301719 | 0.133892576 |\n| 12 | Documents_Quality        | nhrc     |  0.21790258 |  0.4945932 | 0.24462242 | 0.042925804 |\n\n",
            "text/latex": "A data.frame: 12 × 6\n\\begin{tabular}{r|llllll}\n  & name & block & weight & loading & communality & redundancy\\\\\n  & <fct> & <fct> & <dbl> & <dbl> & <dbl> & <dbl>\\\\\n\\hline\n\t1 & Priority\\_Adjust          & proj\\_suc &  0.32739888 &  0.7030178 & 0.49423401 & 0.000000000\\\\\n\t2 & Meet\\_Deadlines           & proj\\_suc &  0.33093352 &  0.7384823 & 0.54535605 & 0.000000000\\\\\n\t3 & Budget\\_Overrun           & proj\\_suc & -0.28143085 & -0.5764687 & 0.33231614 & 0.000000000\\\\\n\t4 & Goals\\_Met                & proj\\_suc &  0.19634938 &  0.5136207 & 0.26380623 & 0.000000000\\\\\n\t5 & Stakeholder\\_Satisfaction & proj\\_suc &  0.34513381 &  0.7601662 & 0.57785260 & 0.000000000\\\\\n\t6 & Team\\_Admit\\_Mistakes      & hrc      & -0.44590293 & -0.8250080 & 0.68063814 & 0.216517989\\\\\n\t7 & Tensions\\_Unresolved      & hrc      &  0.45449657 &  0.8812657 & 0.77662929 & 0.247053760\\\\\n\t8 & Conflicting\\_Situations   & hrc      &  0.31059108 &  0.7531575 & 0.56724620 & 0.180446846\\\\\n\t9 & Role\\_Mismatch            & hrc      & -0.01562157 &  0.1491352 & 0.02224129 & 0.007075184\\\\\n\t10 & Methodology\\_Efficiency   & nhrc     &  0.45082751 &  0.7515770 & 0.56486795 & 0.099121783\\\\\n\t11 & Tools\\_Appropriateness    & nhrc     &  0.63353162 &  0.8735086 & 0.76301719 & 0.133892576\\\\\n\t12 & Documents\\_Quality        & nhrc     &  0.21790258 &  0.4945932 & 0.24462242 & 0.042925804\\\\\n\\end{tabular}\n",
            "text/plain": [
              "   name                     block    weight      loading    communality\n",
              "1  Priority_Adjust          proj_suc  0.32739888  0.7030178 0.49423401 \n",
              "2  Meet_Deadlines           proj_suc  0.33093352  0.7384823 0.54535605 \n",
              "3  Budget_Overrun           proj_suc -0.28143085 -0.5764687 0.33231614 \n",
              "4  Goals_Met                proj_suc  0.19634938  0.5136207 0.26380623 \n",
              "5  Stakeholder_Satisfaction proj_suc  0.34513381  0.7601662 0.57785260 \n",
              "6  Team_Admit_Mistakes      hrc      -0.44590293 -0.8250080 0.68063814 \n",
              "7  Tensions_Unresolved      hrc       0.45449657  0.8812657 0.77662929 \n",
              "8  Conflicting_Situations   hrc       0.31059108  0.7531575 0.56724620 \n",
              "9  Role_Mismatch            hrc      -0.01562157  0.1491352 0.02224129 \n",
              "10 Methodology_Efficiency   nhrc      0.45082751  0.7515770 0.56486795 \n",
              "11 Tools_Appropriateness    nhrc      0.63353162  0.8735086 0.76301719 \n",
              "12 Documents_Quality        nhrc      0.21790258  0.4945932 0.24462242 \n",
              "   redundancy \n",
              "1  0.000000000\n",
              "2  0.000000000\n",
              "3  0.000000000\n",
              "4  0.000000000\n",
              "5  0.000000000\n",
              "6  0.216517989\n",
              "7  0.247053760\n",
              "8  0.180446846\n",
              "9  0.007075184\n",
              "10 0.099121783\n",
              "11 0.133892576\n",
              "12 0.042925804"
            ]
          },
          "metadata": {}
        },
        {
          "output_type": "display_data",
          "data": {
            "text/plain": [
              "NULL"
            ]
          },
          "metadata": {}
        },
        {
          "output_type": "display_data",
          "data": {
            "text/plain": [
              "NULL"
            ]
          },
          "metadata": {}
        },
        {
          "output_type": "display_data",
          "data": {
            "text/html": [
              "0.346350864338383"
            ],
            "text/markdown": "0.346350864338383",
            "text/latex": "0.346350864338383",
            "text/plain": [
              "[1] 0.3463509"
            ]
          },
          "metadata": {}
        }
      ]
    },
    {
      "cell_type": "code",
      "source": [
        "\n",
        "# Plotar o diagrama do modelo PLS-SEM\n",
        "plot(resultados)"
      ],
      "metadata": {
        "colab": {
          "base_uri": "https://localhost:8080/",
          "height": 437
        },
        "id": "Ex7ECquo299u",
        "outputId": "61194fd9-a256-4fa6-a43a-5624c5001794"
      },
      "execution_count": null,
      "outputs": [
        {
          "output_type": "display_data",
          "data": {
            "text/plain": [
              "Plot with title “”"
            ],
            "image/png": "[encoded data removed]"
          },
          "metadata": {
            "image/png": {
              "width": 420,
              "height": 420
            }
          }
        }
      ]
    },
    {
      "cell_type": "code",
      "source": [
        "# Plotar o diagrama com opções personalizadas\n",
        "plot(resultados, what = \"paths\", arr.pos = 0.3, box.cex = 0.8, lwd = 1, cex.txt = 0.8)\n"
      ],
      "metadata": {
        "id": "Nsu8Xrgq3CM2",
        "outputId": "c5534c34-c0e0-4891-bc75-c577f7816c2b",
        "colab": {
          "base_uri": "https://localhost:8080/",
          "height": 437
        }
      },
      "execution_count": null,
      "outputs": [
        {
          "output_type": "display_data",
          "data": {
            "text/plain": [
              "Plot with title “”"
            ],
            "image/png": "[encoded data removed]"
          },
          "metadata": {
            "image/png": {
              "width": 420,
              "height": 420
            }
          }
        }
      ]
    }
  ]
}